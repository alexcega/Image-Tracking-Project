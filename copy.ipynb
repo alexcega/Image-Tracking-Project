{
 "cells": [
  {
   "cell_type": "code",
   "execution_count": null,
   "metadata": {},
   "outputs": [],
   "source": []
  },
  {
   "cell_type": "markdown",
   "metadata": {},
   "source": [
    "# Image Class Project 2\n"
   ]
  },
  {
   "cell_type": "markdown",
   "metadata": {},
   "source": [
    "## Introduction"
   ]
  },
  {
   "cell_type": "markdown",
   "metadata": {},
   "source": [
    "## Choise of traking algorithm"
   ]
  },
  {
   "cell_type": "code",
   "execution_count": null,
   "metadata": {},
   "outputs": [],
   "source": [
    "!pip install cvzone"
   ]
  },
  {
   "cell_type": "code",
   "execution_count": null,
   "metadata": {},
   "outputs": [],
   "source": []
  },
  {
   "cell_type": "code",
   "execution_count": 18,
   "metadata": {},
   "outputs": [],
   "source": [
    "import cv2\n",
    "import cvzone\n",
    "from cvzone.ColorModule import ColorFinder\n",
    "\n",
    "# Create the color Finder object\n",
    "# True : debug mode\n",
    "myColorFinder = ColorFinder(False)\n",
    "hsvVals = {'hmin': 0, 'smin': 176, 'vmin': 51, 'hmax': 16, 'smax': 255, 'vmax': 255}\n",
    "\n",
    "# Variables\n",
    "posListX, posListY = [], []\n",
    "xList = [item for item in range(0, 1300)]\n",
    "prediction = False\n",
    "\n",
    "cap = cv2.VideoCapture(\"Bouncing ball.mp4\")\n",
    "\n",
    "while True:\n",
    "    # Grab the image\n",
    "    success, img = cap.read()\n",
    "    # Display\n",
    "    # img = cv2.imread(\"ball.png\")\n",
    "    # cv2.imshow('img',img)\n",
    "    # Process the image using the ColorFinder update method\n",
    "    imgColor, mask = myColorFinder.update(img, hsvVals)\n",
    "    \n",
    "    imgContours, contours = cvzone.findContours(img,mask, minArea=200)\n",
    "\n",
    "    imgColor = cv2.resize(imgColor, (0, 0), None, 0.4, 0.4)\n",
    "    \n",
    "    # cv2.imshow(\"Image with Color\", imgColor)\n",
    "    cv2.imshow(\"Video ball\", imgContours)\n",
    "    # Break the loop if the 'q' key is pressed\n",
    "    if cv2.waitKey(1) & 0xFF == ord('q'):\n",
    "        break\n",
    "\n",
    "cv2.destroyAllWindows()"
   ]
  },
  {
   "cell_type": "code",
   "execution_count": 3,
   "metadata": {},
   "outputs": [],
   "source": [
    "import cv2\n",
    "import cvzone\n",
    "from cvzone.ColorModule import ColorFinder\n",
    "\n",
    "# Create the color Finder object\n",
    "# True : debug mode\n",
    "myColorFinder = ColorFinder(False)\n",
    "hsvVals = {'hmin': 0, 'smin': 176, 'vmin': 51, 'hmax': 16, 'smax': 255, 'vmax': 255}\n",
    "\n",
    "# Variables\n",
    "posListX, posListY = [], []\n",
    "xList = [item for item in range(0, 1300)]\n",
    "prediction = False\n",
    "positionList = []\n",
    "cap = cv2.VideoCapture(\"Bouncing ball.mp4\")\n",
    "\n",
    "while True:\n",
    "    # Grab the image\n",
    "    success, img = cap.read()\n",
    "    # Display\n",
    "    # Process the image using the ColorFinder update method\n",
    "    imgColor, mask = myColorFinder.update(img, hsvVals)\n",
    "    \n",
    "    imgContours, contours = cvzone.findContours(img,mask, minArea=200)\n",
    "\n",
    "    if contours:\n",
    "        positionList.append(contours[0]['center'])\n",
    "    \n",
    "    for pos in positionList:\n",
    "        cv2.circle(imgContours, pos, 5, (0, 255, 0), cv2.FILLED)\n",
    "    imgColor = cv2.resize(imgContours, (0, 0), None, 0.4, 0.4)\n",
    "    \n",
    "    # cv2.imshow(\"Image with Color\", imgColor)\n",
    "    cv2.imshow(\"Video ball\", imgContours)\n",
    "    cv2.waitKey(50)\n",
    "    # Break the loop if the 'q' key is pressed\n",
    "    if cv2.waitKey(1) & 0xFF == ord('q'):\n",
    "        break\n",
    "\n",
    "cv2.destroyAllWindows()"
   ]
  },
  {
   "cell_type": "code",
   "execution_count": 21,
   "metadata": {},
   "outputs": [
    {
     "name": "stderr",
     "output_type": "stream",
     "text": [
      "C:\\Users\\alexc\\AppData\\Local\\Temp\\ipykernel_33628\\10617684.py:38: RankWarning: Polyfit may be poorly conditioned\n",
      "  A, B, C = np.polyfit(posListX, posListY, 2)\n",
      "C:\\Users\\alexc\\AppData\\Local\\Temp\\ipykernel_33628\\10617684.py:38: RankWarning: Polyfit may be poorly conditioned\n",
      "  A, B, C = np.polyfit(posListX, posListY, 2)\n"
     ]
    },
    {
     "name": "stdout",
     "output_type": "stream",
     "text": [
      "[468]\n",
      "[468, 462]\n"
     ]
    },
    {
     "ename": "ValueError",
     "evalue": "math domain error",
     "output_type": "error",
     "traceback": [
      "\u001b[1;31m---------------------------------------------------------------------------\u001b[0m",
      "\u001b[1;31mValueError\u001b[0m                                Traceback (most recent call last)",
      "Cell \u001b[1;32mIn[21], line 58\u001b[0m\n\u001b[0;32m     55\u001b[0m b \u001b[38;5;241m=\u001b[39m B\n\u001b[0;32m     56\u001b[0m c \u001b[38;5;241m=\u001b[39m C \u001b[38;5;241m-\u001b[39m \u001b[38;5;241m590\u001b[39m\n\u001b[1;32m---> 58\u001b[0m x \u001b[38;5;241m=\u001b[39m \u001b[38;5;28mint\u001b[39m((\u001b[38;5;241m-\u001b[39mb \u001b[38;5;241m-\u001b[39m \u001b[43mmath\u001b[49m\u001b[38;5;241;43m.\u001b[39;49m\u001b[43msqrt\u001b[49m\u001b[43m(\u001b[49m\u001b[43mb\u001b[49m\u001b[43m \u001b[49m\u001b[38;5;241;43m*\u001b[39;49m\u001b[38;5;241;43m*\u001b[39;49m\u001b[43m \u001b[49m\u001b[38;5;241;43m2\u001b[39;49m\u001b[43m \u001b[49m\u001b[38;5;241;43m-\u001b[39;49m\u001b[43m \u001b[49m\u001b[43m(\u001b[49m\u001b[38;5;241;43m4\u001b[39;49m\u001b[43m \u001b[49m\u001b[38;5;241;43m*\u001b[39;49m\u001b[43m \u001b[49m\u001b[43ma\u001b[49m\u001b[43m \u001b[49m\u001b[38;5;241;43m*\u001b[39;49m\u001b[43m \u001b[49m\u001b[43mc\u001b[49m\u001b[43m)\u001b[49m\u001b[43m)\u001b[49m) \u001b[38;5;241m/\u001b[39m (\u001b[38;5;241m2\u001b[39m \u001b[38;5;241m*\u001b[39m a))\n\u001b[0;32m     59\u001b[0m \u001b[38;5;66;03m# print(x)\u001b[39;00m\n\u001b[0;32m     60\u001b[0m prediction \u001b[38;5;241m=\u001b[39m \u001b[38;5;241m100\u001b[39m \u001b[38;5;241m<\u001b[39m x \u001b[38;5;241m<\u001b[39m \u001b[38;5;241m150\u001b[39m\n",
      "\u001b[1;31mValueError\u001b[0m: math domain error"
     ]
    }
   ],
   "source": [
    "import math\n",
    "import cv2\n",
    "import cvzone\n",
    "from cvzone.ColorModule import ColorFinder\n",
    "import numpy as np\n",
    "\n",
    "# Initialize the Video\n",
    "cap = cv2.VideoCapture('Bouncing ball.mp4')\n",
    "\n",
    "# Create the color Finder object\n",
    "myColorFinder = ColorFinder(False)\n",
    "hsvVals = {'hmin': 0, 'smin': 176, 'vmin': 51, 'hmax': 16, 'smax': 255, 'vmax': 255}\n",
    "\n",
    "# Variables\n",
    "posListX, posListY = [], []\n",
    "xList = [item for item in range(0, 1300)] # image shpae of x -> 1300x1080\n",
    "prediction = False\n",
    "\n",
    "while True:\n",
    "    \n",
    "    success, img = cap.read()\n",
    "    # img = img[0:900, :]\n",
    "    \n",
    "    # Display\n",
    "    img = cv2.resize(img, (0, 0), None, 0.7, 0.7)\n",
    "    \n",
    "    # Process the image using the ColorFinder update method\n",
    "    imgColor, mask = myColorFinder.update(img, hsvVals)\n",
    "    \n",
    "    imgContours, contours = cvzone.findContours(img, mask, minArea=500)\n",
    "    \n",
    "    if contours:\n",
    "        posListX.append(contours[0]['center'][0])\n",
    "        posListY.append(contours[0]['center'][1])\n",
    "        \n",
    "    if posListX and posListY: \n",
    "        # polunomial regression y = Ax ^ 2 + Bx + C\n",
    "        A, B, C = np.polyfit(posListX, posListY, 2)\n",
    "        \n",
    "        \n",
    "        for i, (posX, posY) in enumerate(zip(posListX, posListY)):\n",
    "            pos = (posX, posY)\n",
    "            cv2.circle(imgContours, pos, 5, (0, 255, 0), cv2.FILLED)\n",
    "            if i >= 1:\n",
    "                cv2.line(imgContours, pos, (posListX[i - 1], posListY[i - 1]), (0, 255, 0), 2)\n",
    "        \n",
    "        for x in xList:\n",
    "            y = int(A * x**2 + B * x + C)\n",
    "            cv2.circle(imgContours, (x, y), 2, (255, 0, 255), cv2.FILLED)\n",
    "            \n",
    "        print(posListX)\n",
    "        if len(posListX) < 10 :\n",
    "            # Prediction\n",
    "            a = A\n",
    "            b = B\n",
    "            c = C - 590\n",
    "\n",
    "            x = int((-b - math.sqrt(b ** 2 - (4 * a * c))) / (2 * a))\n",
    "            # print(x)\n",
    "            prediction = 100 < x < 150\n",
    "\n",
    "        if prediction:\n",
    "            cvzone.putTextRect(imgContours, \"Basket\", (50, 100),\n",
    "                               scale=3, thickness=3, colorR=(0, 200, 0), offset=20)\n",
    "        else:\n",
    "            cvzone.putTextRect(imgContours, \"No Basket\", (50, 100),\n",
    "                               scale=3, thickness=3, colorR=(0, 0, 200), offset=20)\n",
    "            \n",
    "    cv2.imshow(\"Image with countours\", imgContours)\n",
    "    \n",
    "    # Break the loop if the 'q' key is pressed\n",
    "    if cv2.waitKey(85) & 0xFF == ord('q'):\n",
    "        break\n",
    "\n",
    "# Release the video capture and close all windows\n",
    "cap.release()\n",
    "cv2.destroyAllWindows()"
   ]
  },
  {
   "cell_type": "markdown",
   "metadata": {},
   "source": [
    "## Step by step"
   ]
  },
  {
   "cell_type": "code",
   "execution_count": 25,
   "metadata": {},
   "outputs": [],
   "source": [
    " \n",
    "import numpy as np \n",
    "import cv2 as cv \n",
    "  "
   ]
  },
  {
   "cell_type": "code",
   "execution_count": 26,
   "metadata": {},
   "outputs": [],
   "source": [
    "# Read the input video \n",
    "cap = cv.VideoCapture('Bouncing ball.mp4') \n",
    "  \n",
    "  "
   ]
  },
  {
   "cell_type": "code",
   "execution_count": 27,
   "metadata": {},
   "outputs": [
    {
     "name": "stdout",
     "output_type": "stream",
     "text": [
      "Video Resolution: 1280x720\n"
     ]
    }
   ],
   "source": [
    "frame_width = int(cap.get(cv.CAP_PROP_FRAME_WIDTH))\n",
    "frame_height = int(cap.get(cv.CAP_PROP_FRAME_HEIGHT))\n",
    "\n",
    "print(f\"Video Resolution: {frame_width}x{frame_height}\")\n"
   ]
  },
  {
   "cell_type": "code",
   "execution_count": 28,
   "metadata": {},
   "outputs": [],
   "source": [
    "# take first frame of the \n",
    "# video \n",
    "ret, frame = cap.read() "
   ]
  },
  {
   "cell_type": "code",
   "execution_count": 29,
   "metadata": {},
   "outputs": [],
   "source": [
    "# Manually select ROI\n",
    "roi = cv.selectROI(\"Select Tracking Region\", frame, fromCenter=False, showCrosshair=True)\n"
   ]
  },
  {
   "cell_type": "code",
   "execution_count": 30,
   "metadata": {},
   "outputs": [
    {
     "data": {
      "text/plain": [
       "(498, 0, 306, 124)"
      ]
     },
     "execution_count": 30,
     "metadata": {},
     "output_type": "execute_result"
    }
   ],
   "source": [
    "roi"
   ]
  },
  {
   "cell_type": "code",
   "execution_count": 31,
   "metadata": {},
   "outputs": [],
   "source": [
    "x, y, width, height = roi\n",
    "track_window = (x, y, width, height) "
   ]
  },
  {
   "cell_type": "code",
   "execution_count": 32,
   "metadata": {},
   "outputs": [],
   "source": [
    " \n",
    "# set up the Region of \n",
    "# Interest for tracking \n",
    "roi = frame[y:y + height, x : x + width] "
   ]
  },
  {
   "cell_type": "code",
   "execution_count": 33,
   "metadata": {},
   "outputs": [
    {
     "data": {
      "text/plain": [
       "(124, 306, 3)"
      ]
     },
     "execution_count": 33,
     "metadata": {},
     "output_type": "execute_result"
    }
   ],
   "source": [
    "roi.shape"
   ]
  },
  {
   "cell_type": "code",
   "execution_count": 34,
   "metadata": {},
   "outputs": [],
   "source": [
    "import matplotlib.pyplot as plt\n",
    "def plot_array(fillter):\n",
    "    plt.imshow(cv.cvtColor(fillter, cv.COLOR_BGR2RGB))\n",
    "    plt.axis('off')\n",
    "    plt.tight_layout()\n",
    "    plt.show()"
   ]
  },
  {
   "cell_type": "code",
   "execution_count": 35,
   "metadata": {},
   "outputs": [
    {
     "data": {
      "image/png": "[encoded data removed]",
      "text/plain": [
       "<Figure size 640x480 with 1 Axes>"
      ]
     },
     "metadata": {},
     "output_type": "display_data"
    }
   ],
   "source": [
    "plot_array(roi)"
   ]
  },
  {
   "cell_type": "code",
   "execution_count": 36,
   "metadata": {},
   "outputs": [
    {
     "data": {
      "image/png": "[encoded data removed]",
      "text/plain": [
       "<Figure size 640x480 with 1 Axes>"
      ]
     },
     "metadata": {},
     "output_type": "display_data"
    }
   ],
   "source": [
    "# convert ROI from BGR to \n",
    "# HSV format \n",
    "hsv_roi = cv.cvtColor(roi, cv.COLOR_BGR2HSV) \n",
    "plot_array(hsv_roi)  "
   ]
  },
  {
   "cell_type": "code",
   "execution_count": 37,
   "metadata": {},
   "outputs": [
    {
     "data": {
      "image/png": "[encoded data removed]",
      "text/plain": [
       "<Figure size 640x480 with 1 Axes>"
      ]
     },
     "metadata": {},
     "output_type": "display_data"
    }
   ],
   "source": [
    "# perform masking operation \n",
    "# hsvVals = {'hmin': 0, 'smin': 176, 'vmin': 51, 'hmax': 16, 'smax': 255, 'vmax': 255}\n",
    "\n",
    "mask = cv.inRange(hsv_roi, np.array((0., 176., 51.)), np.array((16., 255., 255))) \n",
    "plot_array(mask)  "
   ]
  },
  {
   "cell_type": "code",
   "execution_count": 38,
   "metadata": {},
   "outputs": [
    {
     "name": "stderr",
     "output_type": "stream",
     "text": [
      "Clipping input data to the valid range for imshow with RGB data ([0..1] for floats or [0..255] for integers). Got range [0.0..4408.0].\n"
     ]
    },
    {
     "data": {
      "image/png": "[encoded data removed]",
      "text/plain": [
       "<Figure size 640x480 with 1 Axes>"
      ]
     },
     "metadata": {},
     "output_type": "display_data"
    }
   ],
   "source": [
    "\n",
    "\n",
    "roi_hist = cv.calcHist([hsv_roi],  \n",
    "                       [0], mask, \n",
    "                       [180],  \n",
    "                       [0, 180]) \n",
    "plot_array(roi_hist)"
   ]
  },
  {
   "cell_type": "code",
   "execution_count": 39,
   "metadata": {},
   "outputs": [
    {
     "data": {
      "text/plain": [
       "array([[8.38815784e+00],\n",
       "       [1.77019062e+01],\n",
       "       [7.01712799e+01],\n",
       "       [2.55000000e+02],\n",
       "       [2.41000458e+02],\n",
       "       [1.07426270e+02],\n",
       "       [5.07338943e+01],\n",
       "       [3.65029488e+01],\n",
       "       [3.60401535e+01],\n",
       "       [2.15199642e+01],\n",
       "       [2.25034027e+01],\n",
       "       [1.11649275e+01],\n",
       "       [5.20644283e+00],\n",
       "       [7.75181484e+00],\n",
       "       [2.37182403e+00],\n",
       "       [5.78493662e-02],\n",
       "       [0.00000000e+00],\n",
       "       [0.00000000e+00],\n",
       "       [0.00000000e+00],\n",
       "       [0.00000000e+00],\n",
       "       [0.00000000e+00],\n",
       "       [0.00000000e+00],\n",
       "       [0.00000000e+00],\n",
       "       [0.00000000e+00],\n",
       "       [0.00000000e+00],\n",
       "       [0.00000000e+00],\n",
       "       [0.00000000e+00],\n",
       "       [0.00000000e+00],\n",
       "       [0.00000000e+00],\n",
       "       [0.00000000e+00],\n",
       "       [0.00000000e+00],\n",
       "       [0.00000000e+00],\n",
       "       [0.00000000e+00],\n",
       "       [0.00000000e+00],\n",
       "       [0.00000000e+00],\n",
       "       [0.00000000e+00],\n",
       "       [0.00000000e+00],\n",
       "       [0.00000000e+00],\n",
       "       [0.00000000e+00],\n",
       "       [0.00000000e+00],\n",
       "       [0.00000000e+00],\n",
       "       [0.00000000e+00],\n",
       "       [0.00000000e+00],\n",
       "       [0.00000000e+00],\n",
       "       [0.00000000e+00],\n",
       "       [0.00000000e+00],\n",
       "       [0.00000000e+00],\n",
       "       [0.00000000e+00],\n",
       "       [0.00000000e+00],\n",
       "       [0.00000000e+00],\n",
       "       [0.00000000e+00],\n",
       "       [0.00000000e+00],\n",
       "       [0.00000000e+00],\n",
       "       [0.00000000e+00],\n",
       "       [0.00000000e+00],\n",
       "       [0.00000000e+00],\n",
       "       [0.00000000e+00],\n",
       "       [0.00000000e+00],\n",
       "       [0.00000000e+00],\n",
       "       [0.00000000e+00],\n",
       "       [0.00000000e+00],\n",
       "       [0.00000000e+00],\n",
       "       [0.00000000e+00],\n",
       "       [0.00000000e+00],\n",
       "       [0.00000000e+00],\n",
       "       [0.00000000e+00],\n",
       "       [0.00000000e+00],\n",
       "       [0.00000000e+00],\n",
       "       [0.00000000e+00],\n",
       "       [0.00000000e+00],\n",
       "       [0.00000000e+00],\n",
       "       [0.00000000e+00],\n",
       "       [0.00000000e+00],\n",
       "       [0.00000000e+00],\n",
       "       [0.00000000e+00],\n",
       "       [0.00000000e+00],\n",
       "       [0.00000000e+00],\n",
       "       [0.00000000e+00],\n",
       "       [0.00000000e+00],\n",
       "       [0.00000000e+00],\n",
       "       [0.00000000e+00],\n",
       "       [0.00000000e+00],\n",
       "       [0.00000000e+00],\n",
       "       [0.00000000e+00],\n",
       "       [0.00000000e+00],\n",
       "       [0.00000000e+00],\n",
       "       [0.00000000e+00],\n",
       "       [0.00000000e+00],\n",
       "       [0.00000000e+00],\n",
       "       [0.00000000e+00],\n",
       "       [0.00000000e+00],\n",
       "       [0.00000000e+00],\n",
       "       [0.00000000e+00],\n",
       "       [0.00000000e+00],\n",
       "       [0.00000000e+00],\n",
       "       [0.00000000e+00],\n",
       "       [0.00000000e+00],\n",
       "       [0.00000000e+00],\n",
       "       [0.00000000e+00],\n",
       "       [0.00000000e+00],\n",
       "       [0.00000000e+00],\n",
       "       [0.00000000e+00],\n",
       "       [0.00000000e+00],\n",
       "       [0.00000000e+00],\n",
       "       [0.00000000e+00],\n",
       "       [0.00000000e+00],\n",
       "       [0.00000000e+00],\n",
       "       [0.00000000e+00],\n",
       "       [0.00000000e+00],\n",
       "       [0.00000000e+00],\n",
       "       [0.00000000e+00],\n",
       "       [0.00000000e+00],\n",
       "       [0.00000000e+00],\n",
       "       [0.00000000e+00],\n",
       "       [0.00000000e+00],\n",
       "       [0.00000000e+00],\n",
       "       [0.00000000e+00],\n",
       "       [0.00000000e+00],\n",
       "       [0.00000000e+00],\n",
       "       [0.00000000e+00],\n",
       "       [0.00000000e+00],\n",
       "       [0.00000000e+00],\n",
       "       [0.00000000e+00],\n",
       "       [0.00000000e+00],\n",
       "       [0.00000000e+00],\n",
       "       [0.00000000e+00],\n",
       "       [0.00000000e+00],\n",
       "       [0.00000000e+00],\n",
       "       [0.00000000e+00],\n",
       "       [0.00000000e+00],\n",
       "       [0.00000000e+00],\n",
       "       [0.00000000e+00],\n",
       "       [0.00000000e+00],\n",
       "       [0.00000000e+00],\n",
       "       [0.00000000e+00],\n",
       "       [0.00000000e+00],\n",
       "       [0.00000000e+00],\n",
       "       [0.00000000e+00],\n",
       "       [0.00000000e+00],\n",
       "       [0.00000000e+00],\n",
       "       [0.00000000e+00],\n",
       "       [0.00000000e+00],\n",
       "       [0.00000000e+00],\n",
       "       [0.00000000e+00],\n",
       "       [0.00000000e+00],\n",
       "       [0.00000000e+00],\n",
       "       [0.00000000e+00],\n",
       "       [0.00000000e+00],\n",
       "       [0.00000000e+00],\n",
       "       [0.00000000e+00],\n",
       "       [0.00000000e+00],\n",
       "       [0.00000000e+00],\n",
       "       [0.00000000e+00],\n",
       "       [0.00000000e+00],\n",
       "       [0.00000000e+00],\n",
       "       [0.00000000e+00],\n",
       "       [0.00000000e+00],\n",
       "       [0.00000000e+00],\n",
       "       [0.00000000e+00],\n",
       "       [0.00000000e+00],\n",
       "       [0.00000000e+00],\n",
       "       [0.00000000e+00],\n",
       "       [0.00000000e+00],\n",
       "       [0.00000000e+00],\n",
       "       [0.00000000e+00],\n",
       "       [0.00000000e+00],\n",
       "       [0.00000000e+00],\n",
       "       [0.00000000e+00],\n",
       "       [0.00000000e+00],\n",
       "       [0.00000000e+00],\n",
       "       [0.00000000e+00],\n",
       "       [0.00000000e+00],\n",
       "       [0.00000000e+00],\n",
       "       [0.00000000e+00],\n",
       "       [0.00000000e+00],\n",
       "       [0.00000000e+00],\n",
       "       [0.00000000e+00],\n",
       "       [0.00000000e+00],\n",
       "       [0.00000000e+00],\n",
       "       [0.00000000e+00]], dtype=float32)"
      ]
     },
     "execution_count": 39,
     "metadata": {},
     "output_type": "execute_result"
    }
   ],
   "source": [
    "cv.normalize(roi_hist, roi_hist, \n",
    "             0, 255, cv.NORM_MINMAX) "
   ]
  },
  {
   "cell_type": "code",
   "execution_count": 40,
   "metadata": {},
   "outputs": [],
   "source": [
    "term_crit = ( cv.TERM_CRITERIA_EPS |  \n",
    "             cv.TERM_CRITERIA_COUNT, 15, 2) \n",
    "  "
   ]
  },
  {
   "cell_type": "code",
   "execution_count": 41,
   "metadata": {},
   "outputs": [
    {
     "name": "stderr",
     "output_type": "stream",
     "text": [
      "C:\\Users\\alexc\\AppData\\Local\\Temp\\ipykernel_6448\\2090286810.py:37: DeprecationWarning: `np.int0` is a deprecated alias for `np.intp`.  (Deprecated NumPy 1.24)\n",
      "  pts = np.int0(pts)\n"
     ]
    }
   ],
   "source": [
    "\n",
    "while(1): \n",
    "      \n",
    "    ret, frame = cap.read() \n",
    "      \n",
    "    # Resize the video frames. \n",
    "    # frame = cv.resize(frame,  (720, 720), fx = 0, fy = 0, interpolation = cv.INTER_CUBIC) \n",
    "      \n",
    "    cv.imshow('Original', frame) \n",
    "  \n",
    "    # perform thresholding on  \n",
    "    # the video frames \n",
    "    ret1, frame1 = cv.threshold(frame, \n",
    "                                180, 155, \n",
    "                                cv.THRESH_TOZERO_INV) \n",
    "  \n",
    "    # convert from BGR to HSV \n",
    "    # format. \n",
    "    hsv = cv.cvtColor(frame1,  \n",
    "                      cv.COLOR_BGR2HSV) \n",
    "  \n",
    "    dst = cv.calcBackProject([hsv],  \n",
    "                             [0],  \n",
    "                             roi_hist,  \n",
    "                             [0, 180], 1) \n",
    "      \n",
    "    # apply Camshift to get the  \n",
    "    # new location \n",
    "    ret2, track_window = cv.CamShift(dst, \n",
    "                                     track_window, \n",
    "                                     term_crit) \n",
    "  \n",
    "    # Draw it on image \n",
    "    pts = cv.boxPoints(ret2) \n",
    "      \n",
    "    # convert from floating \n",
    "    # to integer \n",
    "    pts = np.int0(pts) \n",
    "  \n",
    "    # Draw Tracking window on the \n",
    "    # video frame. \n",
    "    Result = cv.polylines(frame,  \n",
    "                          [pts],  \n",
    "                          True,  \n",
    "                          (0, 255, 255),  \n",
    "                          2) \n",
    "  \n",
    "    cv.imshow('Camshift', Result) \n",
    "  \n",
    "    # set ESC key as the \n",
    "    # exit button. \n",
    "    k = cv.waitKey(30) & 0xff\n",
    "      \n",
    "    if k == 27: \n",
    "        break\n",
    "          \n",
    "  \n",
    "# Release the cap object \n",
    "cap.release() \n",
    "  \n",
    "# close all opened windows \n",
    "cv.destroyAllWindows() "
   ]
  },
  {
   "cell_type": "markdown",
   "metadata": {},
   "source": [
    "## Challenges"
   ]
  },
  {
   "cell_type": "markdown",
   "metadata": {},
   "source": []
  }
 ],
 "metadata": {
  "kernelspec": {
   "display_name": "cv",
   "language": "python",
   "name": "python3"
  },
  "language_info": {
   "codemirror_mode": {
    "name": "ipython",
    "version": 3
   },
   "file_extension": ".py",
   "mimetype": "text/x-python",
   "name": "python",
   "nbconvert_exporter": "python",
   "pygments_lexer": "ipython3",
   "version": "3.9.20"
  }
 },
 "nbformat": 4,
 "nbformat_minor": 2
}
